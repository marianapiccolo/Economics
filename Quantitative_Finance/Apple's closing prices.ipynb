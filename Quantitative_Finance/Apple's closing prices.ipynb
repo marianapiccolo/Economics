{
 "cells": [
  {
   "cell_type": "markdown",
   "id": "9e6f9601",
   "metadata": {},
   "source": [
    "Python script to perform a brief analysis of Apple (AAPL) by plotting its closing prices and calculating the average daily return."
   ]
  },
  {
   "cell_type": "code",
   "execution_count": null,
   "id": "fb6f215f",
   "metadata": {},
   "outputs": [],
   "source": [
    "#!pip install yfinance\n",
    "import yfinance as yf"
   ]
  },
  {
   "cell_type": "code",
   "execution_count": null,
   "id": "26f75036",
   "metadata": {},
   "outputs": [],
   "source": [
    "# 1) Define the financial asset symbol\n",
    "asset = 'AAPL'"
   ]
  },
  {
   "cell_type": "code",
   "execution_count": null,
   "id": "133b9ba3",
   "metadata": {},
   "outputs": [],
   "source": [
    "# 2) Obtain the historical data of the financial asset - 2022 and 2023\n",
    "data_22 = yf.download(asset, start=\"2022-01-01\", end=\"2022-12-31\", progress=False)\n",
    "data_23 = yf.download(asset, start=\"2023-01-01\", end=\"2023-12-31\", progress=False)"
   ]
  },
  {
   "cell_type": "code",
   "execution_count": null,
   "id": "9b2e5f5c",
   "metadata": {},
   "outputs": [],
   "source": [
    "data_22"
   ]
  },
  {
   "cell_type": "code",
   "execution_count": null,
   "id": "0bb35bc1",
   "metadata": {},
   "outputs": [],
   "source": [
    "data_23"
   ]
  },
  {
   "cell_type": "code",
   "execution_count": null,
   "id": "525fcec8",
   "metadata": {},
   "outputs": [],
   "source": [
    "# 3) Calculate the daily returns\n",
    "# .pct_change() calculates the percentage change between the current value and the previous value of each element in a series. \n",
    "# Applied to the 'Close' column, it calculates the percentage change in the closing price from one day to the next, i.e., the daily return of the asset.\n",
    "data_22[\"Return\"] = data_22[\"Close\"].pct_change()\n",
    "data_23[\"Return\"] = data_23[\"Close\"].pct_change()"
   ]
  },
  {
   "cell_type": "code",
   "execution_count": null,
   "id": "4c7fcbe9",
   "metadata": {},
   "outputs": [],
   "source": [
    "# 4) Calculate the average percentage return\n",
    "average_percentage_return_22 = data_22[\"Return\"].mean() * 100\n",
    "average_percentage_return_23 = data_23[\"Return\"].mean() * 100"
   ]
  },
  {
   "cell_type": "code",
   "execution_count": null,
   "id": "825f29dc",
   "metadata": {},
   "outputs": [],
   "source": [
    "# Plot - 2022\n",
    "data_22[\"Close\"].plot();"
   ]
  },
  {
   "cell_type": "code",
   "execution_count": null,
   "id": "92cb7e59",
   "metadata": {},
   "outputs": [],
   "source": [
    "# Plot - 2023\n",
    "data_23[\"Close\"].plot();"
   ]
  }
 ],
 "metadata": {
  "kernelspec": {
   "display_name": "Python 3 (ipykernel)",
   "language": "python",
   "name": "python3"
  },
  "language_info": {
   "codemirror_mode": {
    "name": "ipython",
    "version": 3
   },
   "file_extension": ".py",
   "mimetype": "text/x-python",
   "name": "python",
   "nbconvert_exporter": "python",
   "pygments_lexer": "ipython3",
   "version": "3.9.12"
  }
 },
 "nbformat": 4,
 "nbformat_minor": 5
}
