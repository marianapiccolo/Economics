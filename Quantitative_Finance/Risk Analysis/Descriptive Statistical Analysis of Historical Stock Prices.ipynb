{
 "cells": [
  {
   "cell_type": "markdown",
   "id": "58bcb376",
   "metadata": {},
   "source": [
    "This Python example demonstrates how to perform statistical calculations using historical stock data. In this example, I download historical prices for two stocks (PETR4 and VALE3) and calculate their mean closing prices, standard deviations, and the correlation between their closing prices.\n",
    "\n",
    "A common application of statistical analysis in finance is the calculation of descriptive measures of financial data. For instance, this analysis includes calculating the mean, standard deviation, and correlation between different financial assets to gain insights into their performance and relationships."
   ]
  },
  {
   "cell_type": "code",
   "execution_count": null,
   "id": "d3b76b4e",
   "metadata": {},
   "outputs": [],
   "source": [
    "import yfinance as yf\n",
    "\n",
    "# Get historical data for two stocks\n",
    "stock1 = yf.download('PETR4.SA', start='2022-01-01', end='2022-12-31', progress=False)\n",
    "stock2 = yf.download('VALE3.SA', start='2022-01-01', end='2022-12-31', progress=False)\n",
    "\n",
    "# Calculate the mean of the closing prices\n",
    "mean_stock1 = stock1['Close'].mean()\n",
    "mean_stock2 = stock2['Close'].mean()\n",
    "\n",
    "# Calculate the standard deviation of the closing prices\n",
    "std_dev_stock1 = stock1['Close'].std()\n",
    "std_dev_stock2 = stock2['Close'].std()\n",
    "\n",
    "# Calculate the correlation between the closing prices\n",
    "correlation = stock1['Close'].corr(stock2['Close'])\n",
    "\n",
    "print(f\"Mean of stock 1: {mean_stock1}\")\n",
    "print(f\"Mean of stock 2: {mean_stock2}\")\n",
    "print(f\"Standard deviation of stock 1: {std_dev_stock1}\")\n",
    "print(f\"Standard deviation of stock 2: {std_dev_stock2}\")\n",
    "print(f\"Correlation between the stocks: {correlation}\")\n"
   ]
  },
  {
   "cell_type": "markdown",
   "id": "5b39363b",
   "metadata": {},
   "source": [
    "## Conclusion \n",
    "Insights into the characteristics of the two stocks over the year 2022:\n",
    "\n",
    "### Mean of Stock 1 (PETR4): 30.67\n",
    "\n",
    "### Mean of Stock 2 (VALE3): 80.38\n",
    "\n",
    "The mean closing price of VALE3 is significantly higher than that of PETR4, indicating that, on average, VALE3 was traded at a higher price throughout the year. This suggests that VALE3 might be a more expensive stock compared to PETR4.\n",
    "\n",
    "### Standard Deviation of Stock 1 (PETR4): 3.23\n",
    "\n",
    "### Standard Deviation of Stock 2 (VALE3): 9.55\n",
    "\n",
    "The standard deviation of VALE3 is notably higher than that of PETR4. This indicates that VALE3 experienced greater price fluctuations and higher volatility compared to PETR4. Investors in VALE3 faced more uncertainty in terms of price movements throughout the year.\n",
    "\n",
    "### Correlation Between the Stocks: -0.068\n",
    "\n",
    "The correlation between PETR4 and VALE3 is very close to zero and slightly negative. This implies that there is almost no linear relationship between the price movements of the two stocks. They tend to move independently of each other, and their price movements are not strongly related. The slight negative correlation suggests that, occasionally, when one stock's price increases, the other might decrease, though this relationship is not strong.\n",
    "\n",
    "### Implications for Investment Decisions:\n",
    "- Diversification: \n",
    "Given the low correlation between PETR4 and VALE3, including both stocks in a portfolio could provide diversification benefits. Since their price movements are not strongly related, they may reduce overall portfolio risk by balancing out fluctuations in individual stock prices. \n",
    "\n",
    "\n",
    "- Volatility Considerations: \n",
    "The higher volatility of VALE3 compared to PETR4 should be taken into account. Investors with a lower risk tolerance might prefer PETR4 due to its lower standard deviation. On the other hand, those seeking potentially higher returns and who can handle more risk might consider VALE3, acknowledging its higher volatility. \n",
    "\n",
    "\n",
    "- Investment Strategy: \n",
    "The significant difference in average prices suggests that these stocks might serve different roles in an investment strategy. PETR4 could be a more stable investment with lower volatility, while VALE3 might offer higher potential returns with increased risk.\n",
    "\n",
    "\n",
    "Overall, the analysis highlights the importance of considering both mean price levels and volatility when evaluating stocks for investment. Additionally, the low correlation suggests that combining these stocks could help in managing risk while potentially benefiting from their individual performance characteristics."
   ]
  }
 ],
 "metadata": {
  "kernelspec": {
   "display_name": "Python 3 (ipykernel)",
   "language": "python",
   "name": "python3"
  },
  "language_info": {
   "codemirror_mode": {
    "name": "ipython",
    "version": 3
   },
   "file_extension": ".py",
   "mimetype": "text/x-python",
   "name": "python",
   "nbconvert_exporter": "python",
   "pygments_lexer": "ipython3",
   "version": "3.9.12"
  }
 },
 "nbformat": 4,
 "nbformat_minor": 5
}
